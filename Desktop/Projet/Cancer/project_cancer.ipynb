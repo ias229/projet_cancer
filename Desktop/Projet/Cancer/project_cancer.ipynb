{
 "cells": [
  {
   "cell_type": "code",
   "execution_count": 21,
   "metadata": {},
   "outputs": [
    {
     "name": "stdout",
     "output_type": "stream",
     "text": [
      "Précision du modèle : 100.00%\n",
      "Le patient a un rique de cancer faible\n"
     ]
    }
   ],
   "source": [
    "# Import des librairies nécessaires\n",
    "import pandas as pd\n",
    "from sklearn.model_selection import train_test_split\n",
    "from sklearn.ensemble import RandomForestClassifier\n",
    "\n",
    "# Chargement des données de patients\n",
    "data = pd.read_csv(\"patient_cancer.csv\")\n",
    "\n",
    "# Séparation des données en deux parties : une partie pour l'entraînement du modèle et une partie pour tester le modèle\n",
    "X = data.drop(\"NiveauCancer\", axis=1)\n",
    "y = data[\"NiveauCancer\"]\n",
    "X_train, X_test, y_train, y_test = train_test_split(X, y, test_size=0.2)\n",
    "\n",
    "# Création et entraînement d'un modèle de forêt aléatoire\n",
    "model = RandomForestClassifier()\n",
    "model.fit(X_train, y_train)\n",
    "\n",
    "# Test du modèle sur les données de test\n",
    "accuracy = model.score(X_test, y_test)\n",
    "print(\"Précision du modèle : {:.2f}%\".format(accuracy * 100))\n",
    "\n",
    "# Prédiction pour un nouveau patient\n",
    "new_patient = pd.DataFrame({\"IdPatient\":[111], \"AgeGenrePollutionDeAir\":[30], \"UsageAlcool\":[1], \"AllergiePoussiere\":[2], \"RisqueProfessionnel\":[4], \"RisqueGenetique\":[5], \"MaladiePulmonaireChronique\":[4], \"RegimeEquilibre\":[3], \"Obesite\":[2], \"Fumeur\":[2], \"FumerPassif\":[2], \"DouleurPoitrine\":[4], \"TouxDeSang\":[3], \"Fatigue\":[2], \"PerteDePoids\":[2], \"Essouflement\":[4], \"RespirationSifflante\":[3], \"DifficulteAAvaler\":[4], \"OngleDoigt\":[2], \"FrequenceFroid\":[2], \"TouxSeche\":[3], \"Ronglement\":[1]})\n",
    "prediction = model.predict(new_patient)\n",
    "\n",
    "if prediction[0] == \"Low\":\n",
    "    print(\"Le patient a un rique de cancer faible\")\n",
    "elif prediction[0] == \"Medium\":\n",
    "        print(\"Le patient a un risque de cancer moyen\")\n",
    "else:\n",
    "        print(\"Le patient a un risque de cancer élevé\")"
   ]
  },
  {
   "cell_type": "code",
   "execution_count": null,
   "metadata": {},
   "outputs": [],
   "source": []
  },
  {
   "cell_type": "code",
   "execution_count": null,
   "metadata": {},
   "outputs": [],
   "source": []
  }
 ],
 "metadata": {
  "kernelspec": {
   "display_name": "Python 3",
   "language": "python",
   "name": "python3"
  },
  "language_info": {
   "codemirror_mode": {
    "name": "ipython",
    "version": 3
   },
   "file_extension": ".py",
   "mimetype": "text/x-python",
   "name": "python",
   "nbconvert_exporter": "python",
   "pygments_lexer": "ipython3",
   "version": "3.8.5"
  }
 },
 "nbformat": 4,
 "nbformat_minor": 4
}
